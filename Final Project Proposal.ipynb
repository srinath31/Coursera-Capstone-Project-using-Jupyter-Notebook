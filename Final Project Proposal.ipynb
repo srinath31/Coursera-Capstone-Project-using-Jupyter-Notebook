{
    "cells": [
        {
            "cell_type": "code",
            "execution_count": null,
            "metadata": {},
            "outputs": [],
            "source": ""
        },
        {
            "cell_type": "markdown",
            "metadata": {
                "collapsed": true
            },
            "source": "# 1. PROJECT DESCRIPTION & BACKGROUND"
        },
        {
            "cell_type": "markdown",
            "metadata": {},
            "source": "Since 2008, guests and hosts have used Airbnb to expand on traveling possibilities and present more unique, personalized way of experiencing the world. It therefore, becomes very important to serve the customers with the best possible pricing based on the area of the house.<br><br>\nKeeping these points in mind, following business questions can be answered with the help of this analysis.<br>\nWhat can we learn about different hosts and areas? What can we learn from predictions? (ex: locations, prices, reviews, etc)? What can we learn about the impact of nearby venues to the house location, do they impact pricing and so on.<br><br>\nIn short, I am going to predict the price of a housing listed on Airbnb using all the information available with me. Also, I would be leveraging **Foursquare API** for getting the list of venues in a radius of 500 meters of a particular Airbnb house.\n"
        },
        {
            "cell_type": "markdown",
            "metadata": {},
            "source": "# 2. DATA DESCRIPTION & ROADMAP "
        },
        {
            "cell_type": "markdown",
            "metadata": {},
            "source": "The data was obtained from Kaggle https://www.kaggle.com/dgomonov/new-york-city-airbnb-open-data.<br><br> This dataset describes the listing activity and metrics in NYC, NY for 2019. Also, it includes all needed information to find out more about hosts, geographical availability, necessary metrics to make predictions and draw conclusions.<br><br>\n**Data Description:**<br>\n***Number of Columns: 16***<br>\n1.\tidlisting ID\n2.\tnamename of the listing\n3.\thost_idhost ID\n4.\thost_namename of the host\n5.\tneighbourhood_grouplocation\n6.\tneighbourhoodarea\n7.\tlatitudelatitude coordinates\n8.\tlongitudelongitude coordinates\n9.\troom_typelisting space type\n10.\tpriceprice in dollars\n11.\tminimum_nightsamount of nights minimum\n12.\tnumber_of_reviewsnumber of reviews\n13.\tlast_reviewlatest review\n14.\treviews_per_monthnumber of reviews per month\n15.\tcalculated_host_listings_countamount of listing per host\n16.\tavailability_365number of days when listing is available for booking\n\n***Number of Rows: 48,895***<br><br>\n\n**ROADMAP:**<br>\nIn this project, I would be performing the follow steps:<br>\n1. DATA ACQUISITION\n2. DATA CLEANING AND PRE-PROCESSING\n3. MODELLING(PERFORMING 1 MACHINE LEARNING ALGORITHM AND IMPROVING IT BY TUNING)\n4. MODEL EVALUATION USING RMSE"
        },
        {
            "cell_type": "code",
            "execution_count": null,
            "metadata": {},
            "outputs": [],
            "source": ""
        },
        {
            "cell_type": "code",
            "execution_count": null,
            "metadata": {},
            "outputs": [],
            "source": ""
        }
    ],
    "metadata": {
        "kernelspec": {
            "display_name": "Python 3.6",
            "language": "python",
            "name": "python3"
        },
        "language_info": {
            "codemirror_mode": {
                "name": "ipython",
                "version": 3
            },
            "file_extension": ".py",
            "mimetype": "text/x-python",
            "name": "python",
            "nbconvert_exporter": "python",
            "pygments_lexer": "ipython3",
            "version": "3.6.8"
        }
    },
    "nbformat": 4,
    "nbformat_minor": 1
}